{
 "cells": [
  {
   "cell_type": "markdown",
   "id": "512e3513",
   "metadata": {},
   "source": [
    "# Check the status of Neptune Instance"
   ]
  },
  {
   "cell_type": "markdown",
   "id": "1c1c6926",
   "metadata": {},
   "source": [
    "Run this before running other queries to see if the instance is working. The 'status' should be 'healthy'."
   ]
  },
  {
   "cell_type": "code",
   "execution_count": 5,
   "id": "21fadc3c",
   "metadata": {},
   "outputs": [
    {
     "data": {
      "text/plain": [
       "{'status': 'healthy',\n",
       " 'startTime': 'Sat Jun 11 08:17:07 UTC 2022',\n",
       " 'dbEngineVersion': '1.0.5.1.R4',\n",
       " 'role': 'writer',\n",
       " 'gremlin': {'version': 'tinkerpop-3.4.11'},\n",
       " 'sparql': {'version': 'sparql-1.1'},\n",
       " 'labMode': {'ObjectIndex': 'disabled',\n",
       "  'DFEQueryEngine': 'viaQueryHint',\n",
       "  'ReadWriteConflictDetection': 'enabled'},\n",
       " 'features': {'ResultCache': {'status': 'disabled'},\n",
       "  'IAMAuthentication': 'disabled',\n",
       "  'Streams': 'disabled',\n",
       "  'AuditLog': 'disabled'},\n",
       " 'settings': {'clusterQueryTimeoutInMs': '120000'}}"
      ]
     },
     "execution_count": 5,
     "metadata": {},
     "output_type": "execute_result"
    }
   ],
   "source": [
    "%status"
   ]
  },
  {
   "cell_type": "markdown",
   "id": "5fab4df0",
   "metadata": {},
   "source": [
    "# Basic Queries"
   ]
  },
  {
   "cell_type": "markdown",
   "id": "d8f6f4a6",
   "metadata": {},
   "source": [
    "This section contains examples of some basic queries that might be helpful during development for debugging or for making changes without having to use the plugin."
   ]
  },
  {
   "cell_type": "markdown",
   "id": "11cec383",
   "metadata": {},
   "source": [
    "## Clear database (DELETES ALL DATA IN THE DATABASE!)"
   ]
  },
  {
   "cell_type": "code",
   "execution_count": 27,
   "id": "38ebfd90",
   "metadata": {},
   "outputs": [
    {
     "data": {
      "application/vnd.jupyter.widget-view+json": {
       "model_id": "11899c02576e4805a6406bb3ed130d7b",
       "version_major": 2,
       "version_minor": 0
      },
      "text/plain": [
       "Tab(children=(Output(layout=Layout(overflow='scroll')),), _titles={'0': 'Error'})"
      ]
     },
     "metadata": {},
     "output_type": "display_data"
    }
   ],
   "source": [
    "%%gremlin\n",
    "// Code commented out to protect from accidental execution of the cell.\n",
    "// g.V().drop()"
   ]
  },
  {
   "cell_type": "markdown",
   "id": "0c5e70ec",
   "metadata": {},
   "source": [
    "## Get all vertices in the database"
   ]
  },
  {
   "cell_type": "code",
   "execution_count": 28,
   "id": "0b24522f",
   "metadata": {},
   "outputs": [
    {
     "data": {
      "application/vnd.jupyter.widget-view+json": {
       "model_id": "29788bed3f584693b889b322347d9945",
       "version_major": 2,
       "version_minor": 0
      },
      "text/plain": [
       "Tab(children=(Output(layout=Layout(max_height='600px', overflow='scroll', width='100%')), Output(layout=Layout…"
      ]
     },
     "metadata": {},
     "output_type": "display_data"
    }
   ],
   "source": [
    "%%gremlin\n",
    "g.V()"
   ]
  },
  {
   "cell_type": "markdown",
   "id": "abf379ab",
   "metadata": {},
   "source": [
    "## Get all node labels in the database"
   ]
  },
  {
   "cell_type": "code",
   "execution_count": 29,
   "id": "ff010d86",
   "metadata": {},
   "outputs": [
    {
     "data": {
      "application/vnd.jupyter.widget-view+json": {
       "model_id": "64418b27eda64646b2b3f82c7e2d19c9",
       "version_major": 2,
       "version_minor": 0
      },
      "text/plain": [
       "Tab(children=(Output(layout=Layout(max_height='600px', overflow='scroll', width='100%')), Output(layout=Layout…"
      ]
     },
     "metadata": {},
     "output_type": "display_data"
    }
   ],
   "source": [
    "%%gremlin\n",
    "g.V().label().dedup()"
   ]
  },
  {
   "cell_type": "markdown",
   "id": "2846a5ea",
   "metadata": {},
   "source": [
    "## Get all edge labels in the database"
   ]
  },
  {
   "cell_type": "code",
   "execution_count": 30,
   "id": "266f336d",
   "metadata": {},
   "outputs": [
    {
     "data": {
      "application/vnd.jupyter.widget-view+json": {
       "model_id": "e71d1aacc1e844d7a20a7a40a5261f53",
       "version_major": 2,
       "version_minor": 0
      },
      "text/plain": [
       "Tab(children=(Output(layout=Layout(max_height='600px', overflow='scroll', width='100%')), Output(layout=Layout…"
      ]
     },
     "metadata": {},
     "output_type": "display_data"
    }
   ],
   "source": [
    "%%gremlin\n",
    "g.E().label().dedup()"
   ]
  },
  {
   "cell_type": "markdown",
   "id": "70ccf801",
   "metadata": {},
   "source": [
    "## Get all nodes (with properties) in Tapestry with id = '19545'"
   ]
  },
  {
   "cell_type": "code",
   "execution_count": 31,
   "id": "bff9c544",
   "metadata": {},
   "outputs": [
    {
     "data": {
      "application/vnd.jupyter.widget-view+json": {
       "model_id": "49331286decf49e2a2fbb3d5c4968e38",
       "version_major": 2,
       "version_minor": 0
      },
      "text/plain": [
       "Tab(children=(Output(layout=Layout(max_height='600px', overflow='scroll', width='100%')), Output(layout=Layout…"
      ]
     },
     "metadata": {},
     "output_type": "display_data"
    }
   ],
   "source": [
    "%%gremlin\n",
    "// Replace '19545' with the id of the Tapestry you are trying to look at\n",
    "g.V('19545').out('contains').valueMap()"
   ]
  },
  {
   "cell_type": "markdown",
   "id": "396442c7",
   "metadata": {},
   "source": [
    "## Get 'titles' of all tapestry_node vertices"
   ]
  },
  {
   "cell_type": "code",
   "execution_count": 40,
   "id": "3a9d2bb4",
   "metadata": {},
   "outputs": [
    {
     "data": {
      "application/vnd.jupyter.widget-view+json": {
       "model_id": "9ae5c5f0136441d8a0ef4d7c87a028e3",
       "version_major": 2,
       "version_minor": 0
      },
      "text/plain": [
       "Tab(children=(Output(layout=Layout(max_height='600px', overflow='scroll', width='100%')), Output(layout=Layout…"
      ]
     },
     "metadata": {},
     "output_type": "display_data"
    }
   ],
   "source": [
    "%%gremlin\n",
    "g.V().hasLabel('tapestry_node').values('title')"
   ]
  },
  {
   "cell_type": "markdown",
   "id": "de556b36",
   "metadata": {},
   "source": [
    "## Get user '1' user_data for all nodes in tapestry '19545'"
   ]
  },
  {
   "cell_type": "code",
   "execution_count": 32,
   "id": "7dd8cbab",
   "metadata": {},
   "outputs": [
    {
     "data": {
      "application/vnd.jupyter.widget-view+json": {
       "model_id": "a8047738e7c9496bbaff892610031fec",
       "version_major": 2,
       "version_minor": 0
      },
      "text/plain": [
       "Tab(children=(Output(layout=Layout(max_height='600px', overflow='scroll', width='100%')), Output(layout=Layout…"
      ]
     },
     "metadata": {},
     "output_type": "display_data"
    }
   ],
   "source": [
    "%%gremlin\n",
    "// Replace '1' with the userId you are trying to look at and '19545' with the tapestry id you are trying to look at\n",
    "g.V().hasLabel('user').has('userId','1')\n",
    ".outE('user_data')\n",
    ".where(inV().in('contains').id().is('19545'))\n",
    ".valueMap()"
   ]
  },
  {
   "cell_type": "markdown",
   "id": "eafb638e",
   "metadata": {},
   "source": [
    "## Get user '1' user progress for each node as follows\n",
    "{   <br>\n",
    "    nodeId : 'nodeId',\n",
    "    <br>\n",
    "    progress_value: 'progress_value'\n",
    "    <br>\n",
    "}"
   ]
  },
  {
   "cell_type": "code",
   "execution_count": 33,
   "id": "c7cb79a3",
   "metadata": {},
   "outputs": [
    {
     "data": {
      "application/vnd.jupyter.widget-view+json": {
       "model_id": "47488120cdf74ce380de119bc35974de",
       "version_major": 2,
       "version_minor": 0
      },
      "text/plain": [
       "Tab(children=(Output(layout=Layout(max_height='600px', overflow='scroll', width='100%')), Output(layout=Layout…"
      ]
     },
     "metadata": {},
     "output_type": "display_data"
    }
   ],
   "source": [
    "%%gremlin\n",
    "// Replace '1' with the userId you are trying to look at\n",
    "g.V().hasLabel('user').has('userId','1')\n",
    ".outE('user_data').project('nodeId','progress_value').by(inV().id()).by(values('percent_completed'))"
   ]
  },
  {
   "cell_type": "markdown",
   "id": "602baf41",
   "metadata": {},
   "source": [
    "## Get all roles user '1' has"
   ]
  },
  {
   "cell_type": "code",
   "execution_count": 34,
   "id": "f060afa7",
   "metadata": {},
   "outputs": [
    {
     "data": {
      "application/vnd.jupyter.widget-view+json": {
       "model_id": "584599f678d1410d92b09b8147cd6a3b",
       "version_major": 2,
       "version_minor": 0
      },
      "text/plain": [
       "Tab(children=(Output(layout=Layout(max_height='600px', overflow='scroll', width='100%')), Output(layout=Layout…"
      ]
     },
     "metadata": {},
     "output_type": "display_data"
    }
   ],
   "source": [
    "%%gremlin\n",
    "// Replace '1' with the userId you are trying to look at\n",
    "g.V().hasLabel('user').has('userId','1').out('has_role').values('name')"
   ]
  },
  {
   "cell_type": "markdown",
   "id": "deaa4632",
   "metadata": {},
   "source": [
    "## Get all condition nodes with properties"
   ]
  },
  {
   "cell_type": "code",
   "execution_count": 35,
   "id": "1c8b79da",
   "metadata": {},
   "outputs": [
    {
     "data": {
      "application/vnd.jupyter.widget-view+json": {
       "model_id": "82998a78f9ea497c8d4331f838c34711",
       "version_major": 2,
       "version_minor": 0
      },
      "text/plain": [
       "Tab(children=(Output(layout=Layout(max_height='600px', overflow='scroll', width='100%')), Output(layout=Layout…"
      ]
     },
     "metadata": {},
     "output_type": "display_data"
    }
   ],
   "source": [
    "%%gremlin\n",
    "// Replace 'condition' with the label of your choice\n",
    "g.V().hasLabel('condition').valueMap()"
   ]
  },
  {
   "cell_type": "markdown",
   "id": "15d91e9d",
   "metadata": {},
   "source": [
    "## Add a node with label 'x' and id 'y' with property 'z' set to 0"
   ]
  },
  {
   "cell_type": "code",
   "execution_count": 36,
   "id": "8ce18fe4",
   "metadata": {},
   "outputs": [
    {
     "data": {
      "application/vnd.jupyter.widget-view+json": {
       "model_id": "fcb636c16aac436a9f09fc43f4a8682a",
       "version_major": 2,
       "version_minor": 0
      },
      "text/plain": [
       "Tab(children=(Output(layout=Layout(max_height='600px', overflow='scroll', width='100%')), Output(layout=Layout…"
      ]
     },
     "metadata": {},
     "output_type": "display_data"
    }
   ],
   "source": [
    "%%gremlin\n",
    "g.addV('x').property(id,'y').property('z',0)"
   ]
  },
  {
   "cell_type": "markdown",
   "id": "b9a03d51",
   "metadata": {},
   "source": [
    "## Add an edge with label 'test' from the node created above to a node with id '19545' "
   ]
  },
  {
   "cell_type": "code",
   "execution_count": 37,
   "id": "b275e5cc",
   "metadata": {},
   "outputs": [
    {
     "data": {
      "application/vnd.jupyter.widget-view+json": {
       "model_id": "9ebc531ce9ad46c98c3cf98f3e263dc8",
       "version_major": 2,
       "version_minor": 0
      },
      "text/plain": [
       "Tab(children=(Output(layout=Layout(max_height='600px', overflow='scroll', width='100%')), Output(layout=Layout…"
      ]
     },
     "metadata": {},
     "output_type": "display_data"
    }
   ],
   "source": [
    "%%gremlin\n",
    "g.addE('test').from(V('y')).to(V('19545'))"
   ]
  },
  {
   "cell_type": "markdown",
   "id": "6ef485c2",
   "metadata": {},
   "source": [
    "## Delete the node created (and hence also the newly created edge associated with it)"
   ]
  },
  {
   "cell_type": "code",
   "execution_count": 38,
   "id": "c75902ae",
   "metadata": {},
   "outputs": [
    {
     "data": {
      "application/vnd.jupyter.widget-view+json": {
       "model_id": "e63ec0f0c277454d801a81ba62eefa73",
       "version_major": 2,
       "version_minor": 0
      },
      "text/plain": [
       "Tab(children=(Output(layout=Layout(max_height='600px', overflow='scroll', width='100%')), Output(layout=Layout…"
      ]
     },
     "metadata": {},
     "output_type": "display_data"
    }
   ],
   "source": [
    "%%gremlin\n",
    "g.V('y').drop()"
   ]
  },
  {
   "cell_type": "markdown",
   "id": "4283948a",
   "metadata": {},
   "source": [
    "## Update property 'title' of tapestry_node with id 'node-39399' to 'Hello World'"
   ]
  },
  {
   "cell_type": "code",
   "execution_count": 39,
   "id": "ca846d67",
   "metadata": {},
   "outputs": [
    {
     "data": {
      "application/vnd.jupyter.widget-view+json": {
       "model_id": "ff86df634e8648eea2f97a873b3c96c4",
       "version_major": 2,
       "version_minor": 0
      },
      "text/plain": [
       "Tab(children=(Output(layout=Layout(max_height='600px', overflow='scroll', width='100%')), Output(layout=Layout…"
      ]
     },
     "metadata": {},
     "output_type": "display_data"
    }
   ],
   "source": [
    "%%gremlin\n",
    "g.V('node-39399').property(single,'title','Hello World')"
   ]
  },
  {
   "cell_type": "markdown",
   "id": "0d92c0f0",
   "metadata": {},
   "source": [
    "# Visualization"
   ]
  },
  {
   "cell_type": "markdown",
   "id": "ce94fe46",
   "metadata": {},
   "source": [
    "This section contains examples of queries that can help you visualize data stored in the graph database."
   ]
  },
  {
   "cell_type": "markdown",
   "id": "488f23c5",
   "metadata": {},
   "source": [
    "## Visualize tapestry --contains-> tapestry_node for a tapestry with id '19545'\n",
    "Replace '19545' with the id of the tapestry you want to look at.\n",
    "Remove the '19545' to view all tapestries in the database."
   ]
  },
  {
   "cell_type": "code",
   "execution_count": 21,
   "id": "8c56d9fd",
   "metadata": {
    "scrolled": true
   },
   "outputs": [
    {
     "data": {
      "application/vnd.jupyter.widget-view+json": {
       "model_id": "0f294e0f2e7b4977ad4e05433ed5a42f",
       "version_major": 2,
       "version_minor": 0
      },
      "text/plain": [
       "Tab(children=(Output(layout=Layout(max_height='600px', overflow='scroll', width='100%')), Force(network=<graph…"
      ]
     },
     "metadata": {},
     "output_type": "display_data"
    }
   ],
   "source": [
    "%%gremlin -p v,oute\n",
    "g.V('19545').outE('contains').inV().path()"
   ]
  },
  {
   "cell_type": "markdown",
   "id": "67b78956",
   "metadata": {},
   "source": [
    "## Visualize tapestry_node --connected_to-> tapestry_node for a tapestry with id '19545'\n",
    "Replace '19545' with the id of the tapestry you want to look at.\n",
    "Remove the where(...) to view all tapestries in the database."
   ]
  },
  {
   "cell_type": "code",
   "execution_count": 24,
   "id": "d962d050",
   "metadata": {},
   "outputs": [
    {
     "data": {
      "application/vnd.jupyter.widget-view+json": {
       "model_id": "56e862c9717f424cb0a27e3f93602e68",
       "version_major": 2,
       "version_minor": 0
      },
      "text/plain": [
       "Tab(children=(Output(layout=Layout(max_height='600px', overflow='scroll', width='100%')), Force(network=<graph…"
      ]
     },
     "metadata": {},
     "output_type": "display_data"
    }
   ],
   "source": [
    "%%gremlin -p v,oute\n",
    "g.V()\n",
    ".where(in('contains').has(id,'19545'))\n",
    ".outE('connected_to').inV().path()"
   ]
  },
  {
   "cell_type": "markdown",
   "id": "914e1a2b",
   "metadata": {},
   "source": [
    "## Visualize user --user_data-> tapestry_node for a user with id '1'\n",
    "Replace '1' with the id of the user you want to look at.\n",
    "Remove the has(...) to view all users in the database."
   ]
  },
  {
   "cell_type": "code",
   "execution_count": 26,
   "id": "be14da8a",
   "metadata": {},
   "outputs": [
    {
     "data": {
      "application/vnd.jupyter.widget-view+json": {
       "model_id": "9d1688882ce24007b992307647273f6c",
       "version_major": 2,
       "version_minor": 0
      },
      "text/plain": [
       "Tab(children=(Output(layout=Layout(max_height='600px', overflow='scroll', width='100%')), Force(network=<graph…"
      ]
     },
     "metadata": {},
     "output_type": "display_data"
    }
   ],
   "source": [
    "%%gremlin -p v,oute\n",
    "g.V().hasLabel('user').has('userId','1').outE('user_data').inV().path()"
   ]
  }
 ],
 "metadata": {
  "kernelspec": {
   "display_name": "Python 3",
   "language": "python",
   "name": "python3"
  },
  "language_info": {
   "codemirror_mode": {
    "name": "ipython",
    "version": 3
   },
   "file_extension": ".py",
   "mimetype": "text/x-python",
   "name": "python",
   "nbconvert_exporter": "python",
   "pygments_lexer": "ipython3",
   "version": "3.7.12"
  }
 },
 "nbformat": 4,
 "nbformat_minor": 5
}
